{
  "cells": [
    {
      "cell_type": "code",
      "execution_count": null,
      "metadata": {
        "id": "NFUc9kCBEtOx"
      },
      "outputs": [],
      "source": [
        "import os\n",
        "import keras,os\n",
        "from keras.datasets import fashion_mnist, cifar100\n",
        "from keras.layers import Dense, Activation, Flatten, Conv2D, MaxPooling2D, Dropout, BatchNormalization\n",
        "from keras.models import Sequential\n",
        "from keras.utils import to_categorical\n",
        "from keras.preprocessing.image import ImageDataGenerator\n",
        "import numpy as np\n",
        "import matplotlib.pyplot as plt\n",
        "import tensorflow as tf\n",
        "import cv2\n",
        "from keras import optimizers\n",
        "from keras.layers.core import Lambda\n",
        "from keras import backend as K\n",
        "from tensorflow.keras.preprocessing import image\n",
        "from matplotlib import pyplot\n",
        "from sklearn.neighbors import KNeighborsClassifier\n",
        "from sklearn.tree import DecisionTreeClassifier\n",
        "from sklearn.ensemble import RandomForestClassifier\n",
        "from sklearn.svm import SVC\n",
        "from sklearn.naive_bayes import GaussianNB\n",
        "from sklearn.ensemble import RandomForestClassifier\n",
        "from sklearn.metrics import accuracy_score\n",
        "from sklearn.metrics import classification_report\n"
      ]
    },
    {
      "cell_type": "code",
      "execution_count": null,
      "metadata": {
        "id": "0k4dce89Fbua"
      },
      "outputs": [],
      "source": [
        "import keras,os\n",
        "from keras.datasets import fashion_mnist, cifar100\n",
        "from keras.layers import Dense, Activation, Flatten, Conv2D, MaxPooling2D, Dropout, BatchNormalization\n",
        "from keras.models import Sequential\n",
        "from keras.utils import to_categorical\n",
        "from keras.preprocessing.image import ImageDataGenerator\n",
        "import numpy as np\n",
        "import matplotlib.pyplot as plt\n",
        "import tensorflow as tf\n",
        "import cv2\n",
        "from keras import optimizers\n",
        "from keras.layers.core import Lambda\n",
        "from keras import backend as K\n",
        "from keras import regularizers\n",
        "from sklearn import datasets # load dataset\n",
        "from sklearn.model_selection import train_test_split # split dataset\n",
        "from sklearn.preprocessing import StandardScaler # standard scaler\n",
        "from sklearn.metrics import accuracy_score # check accuracy\n",
        "from PIL import Image"
      ]
    },
    {
      "cell_type": "code",
      "execution_count": null,
      "metadata": {
        "colab": {
          "base_uri": "https://localhost:8080/"
        },
        "id": "ihf4czzJF0-d",
        "outputId": "48209a49-cb05-4eff-8e03-14993db780c7"
      },
      "outputs": [
        {
          "output_type": "stream",
          "name": "stdout",
          "text": [
            "Drive already mounted at /content/drive; to attempt to forcibly remount, call drive.mount(\"/content/drive\", force_remount=True).\n"
          ]
        }
      ],
      "source": [
        "from google.colab import drive\n",
        "drive.mount('/content/drive')"
      ]
    },
    {
      "cell_type": "code",
      "execution_count": null,
      "metadata": {
        "id": "oQSeWzbpF2aV"
      },
      "outputs": [],
      "source": [
        "#Import the libraries\n",
        "import zipfile\n",
        "import os\n",
        "\n",
        "zip_ref = zipfile.ZipFile('/content/drive/MyDrive/crack.zip', 'r') #Opens the zip file in read mode\n",
        "zip_ref.extractall('/tmp') #Extracts the files into the /tmp folder\n",
        "zip_ref.close()"
      ]
    },
    {
      "cell_type": "code",
      "execution_count": null,
      "metadata": {
        "id": "LDauDxv7F60M"
      },
      "outputs": [],
      "source": [
        "import zipfile\n",
        "zip_ref = zipfile.ZipFile('/content/drive/MyDrive/crack.zip', 'r')\n",
        "zip_ref.extractall('/content')\n",
        "zip_ref.close()"
      ]
    },
    {
      "cell_type": "code",
      "execution_count": null,
      "metadata": {
        "colab": {
          "base_uri": "https://localhost:8080/"
        },
        "id": "HBwRKqjHF8ku",
        "outputId": "82977193-606e-4f29-a1fa-dd0e2f9f6783"
      },
      "outputs": [
        {
          "output_type": "stream",
          "name": "stdout",
          "text": [
            "unzip:  cannot find or open gdrive/My Drive/data/crack.zip, gdrive/My Drive/data/crack.zip.zip or gdrive/My Drive/data/crack.zip.ZIP.\n"
          ]
        }
      ],
      "source": [
        "!unzip gdrive/My\\ Drive/data/crack.zip"
      ]
    },
    {
      "cell_type": "code",
      "execution_count": null,
      "metadata": {
        "colab": {
          "base_uri": "https://localhost:8080/"
        },
        "id": "3300NBLMF-WM",
        "outputId": "9a6b9020-1874-407d-c583-0d5edb1e75b1"
      },
      "outputs": [
        {
          "output_type": "stream",
          "name": "stdout",
          "text": [
            "unzip:  cannot find or open gdrive/My Drive/data/train.zip, gdrive/My Drive/data/train.zip.zip or gdrive/My Drive/data/train.zip.ZIP.\n"
          ]
        }
      ],
      "source": [
        "!unzip gdrive/My\\ Drive/data/train.zip > /dev/null"
      ]
    },
    {
      "cell_type": "code",
      "execution_count": null,
      "metadata": {
        "colab": {
          "base_uri": "https://localhost:8080/"
        },
        "id": "GSDx-yuNF_nA",
        "outputId": "31a3a522-14b5-4285-898d-bbab1f9f04cc"
      },
      "outputs": [
        {
          "output_type": "stream",
          "name": "stdout",
          "text": [
            "Found 32000 files belonging to 2 classes.\n",
            "Found 8000 files belonging to 2 classes.\n"
          ]
        }
      ],
      "source": [
        "# generators\n",
        "train_ds = keras.utils.image_dataset_from_directory(\n",
        "    directory = '/content/crack/train',\n",
        "    labels='inferred',\n",
        "    label_mode = 'int',\n",
        "    batch_size=32,\n",
        "    image_size=(256,256)\n",
        ")\n",
        "\n",
        "validation_ds = keras.utils.image_dataset_from_directory(\n",
        "    directory = '/content/crack/test',\n",
        "    labels='inferred',\n",
        "    label_mode = 'int',\n",
        "    batch_size=32,\n",
        "    image_size=(256,256)\n",
        ")"
      ]
    },
    {
      "cell_type": "code",
      "execution_count": null,
      "metadata": {
        "id": "sUFOqd1xGBHj"
      },
      "outputs": [],
      "source": [
        "import tensorflow as tf\n",
        "from tensorflow.keras.preprocessing.image import ImageDataGenerator\n",
        "import matplotlib.pyplot as plt\n",
        "\n",
        "# Define data generators\n",
        "train_datagen = ImageDataGenerator(rescale=1./255)\n",
        "val_datagen = ImageDataGenerator(rescale=1./255)\n",
        "\n",
        "train_dir = '/content/crack/train'\n",
        "val_dir = '/content/crack/test'"
      ]
    },
    {
      "cell_type": "code",
      "execution_count": null,
      "metadata": {
        "colab": {
          "base_uri": "https://localhost:8080/"
        },
        "id": "MBPkGEl8GDm8",
        "outputId": "f7619053-d9d4-4cbc-d88b-0bf062c2ecbd"
      },
      "outputs": [
        {
          "output_type": "stream",
          "name": "stdout",
          "text": [
            "Found 32000 images belonging to 2 classes.\n",
            "Found 8000 images belonging to 2 classes.\n"
          ]
        }
      ],
      "source": [
        "train_generator = train_datagen.flow_from_directory(\n",
        "    train_dir,\n",
        "    target_size=(224, 224),\n",
        "    batch_size=32,\n",
        "    class_mode='binary')\n",
        "\n",
        "val_generator = val_datagen.flow_from_directory(\n",
        "    val_dir,\n",
        "    target_size=(224, 224),\n",
        "    batch_size=32,\n",
        "    class_mode='binary')"
      ]
    },
    {
      "cell_type": "code",
      "execution_count": null,
      "metadata": {
        "id": "kAScZhMnGF2K"
      },
      "outputs": [],
      "source": [
        "import tensorflow as tf\n",
        "from tensorflow.keras.models import Model\n",
        "from tensorflow.keras.layers import Input, Conv2D, BatchNormalization, Activation\n",
        "from tensorflow.keras.layers import MaxPooling2D, GlobalAveragePooling2D, Dense\n",
        "\n",
        "def resnet_block(inputs, filters, kernel_size, strides):\n",
        "    x = Conv2D(filters=filters, kernel_size=kernel_size, strides=strides, padding='same')(inputs)\n",
        "    x = BatchNormalization()(x)\n",
        "    x = Activation('relu')(x)\n",
        "    return x\n",
        "\n",
        "\n"
      ]
    },
    {
      "cell_type": "code",
      "execution_count": null,
      "metadata": {
        "id": "-6X2ga1MHa-x"
      },
      "outputs": [],
      "source": [
        "def create_resnet_model(input_shape, num_classes):\n",
        "    inputs = Input(shape=input_shape)\n",
        "\n",
        "    # Initial convolution layer\n",
        "    x = resnet_block(inputs, filters=64, kernel_size=7, strides=2)\n",
        "    x = MaxPooling2D(pool_size=(3, 3), strides=2, padding='same')(x)\n",
        "\n",
        "    # Residual blocks\n",
        "    x = resnet_block(x, filters=64, kernel_size=3, strides=1)\n",
        "    x = resnet_block(x, filters=64, kernel_size=3, strides=1)\n",
        "    x = resnet_block(x, filters=64, kernel_size=3, strides=1)\n",
        "\n",
        "    x = resnet_block(x, filters=128, kernel_size=3, strides=2)\n",
        "    x = resnet_block(x, filters=128, kernel_size=3, strides=1)\n",
        "    x = resnet_block(x, filters=128, kernel_size=3, strides=1)\n",
        "    x = resnet_block(x, filters=128, kernel_size=3, strides=1)\n",
        "\n",
        "    x = resnet_block(x, filters=256, kernel_size=3, strides=2)\n",
        "    x = resnet_block(x, filters=256, kernel_size=3, strides=1)\n",
        "    x = resnet_block(x, filters=256, kernel_size=3, strides=1)\n",
        "    x = resnet_block(x, filters=256, kernel_size=3, strides=1)\n",
        "    x = resnet_block(x, filters=256, kernel_size=3, strides=1)\n",
        "    x = resnet_block(x, filters=256, kernel_size=3, strides=1)\n",
        "\n",
        "    x = resnet_block(x, filters=512, kernel_size=3, strides=2)\n",
        "    x = resnet_block(x, filters=512, kernel_size=3, strides=1)\n",
        "    x = resnet_block(x, filters=512, kernel_size=3, strides=1)\n",
        "\n",
        "    # Global average pooling and output layer\n",
        "    x = GlobalAveragePooling2D()(x)\n",
        "    outputs = Dense(num_classes, activation='softmax')(x)\n",
        "\n",
        "    # Create the model\n",
        "    model = Model(inputs=inputs, outputs=outputs)\n",
        "    return model\n",
        "\n"
      ]
    },
    {
      "cell_type": "code",
      "execution_count": null,
      "metadata": {
        "id": "t_AePzLPHedY"
      },
      "outputs": [],
      "source": [
        "# Define the input shape and number of classes\n",
        "input_shape = (224, 224, 3)\n",
        "num_classes = 2\n"
      ]
    },
    {
      "cell_type": "code",
      "execution_count": null,
      "metadata": {
        "id": "QCzHftmJHiRB"
      },
      "outputs": [],
      "source": [
        "# Create the ResNet model\n",
        "model = create_resnet_model(input_shape, num_classes)\n",
        "\n",
        "# Compile the model\n",
        "model.compile(optimizer='adam', loss='sparse_categorical_crossentropy', metrics=['accuracy'])\n"
      ]
    },
    {
      "cell_type": "code",
      "execution_count": null,
      "metadata": {
        "colab": {
          "base_uri": "https://localhost:8080/"
        },
        "id": "PaE5moPBH1db",
        "outputId": "269005f2-7b02-4bee-eb89-d0d0b6e64419"
      },
      "outputs": [
        {
          "output_type": "stream",
          "name": "stdout",
          "text": [
            "Model: \"model\"\n",
            "_________________________________________________________________\n",
            " Layer (type)                Output Shape              Param #   \n",
            "=================================================================\n",
            " input_1 (InputLayer)        [(None, 224, 224, 3)]     0         \n",
            "                                                                 \n",
            " conv2d (Conv2D)             (None, 112, 112, 64)      9472      \n",
            "                                                                 \n",
            " batch_normalization (BatchN  (None, 112, 112, 64)     256       \n",
            " ormalization)                                                   \n",
            "                                                                 \n",
            " activation (Activation)     (None, 112, 112, 64)      0         \n",
            "                                                                 \n",
            " max_pooling2d (MaxPooling2D  (None, 56, 56, 64)       0         \n",
            " )                                                               \n",
            "                                                                 \n",
            " conv2d_1 (Conv2D)           (None, 56, 56, 64)        36928     \n",
            "                                                                 \n",
            " batch_normalization_1 (Batc  (None, 56, 56, 64)       256       \n",
            " hNormalization)                                                 \n",
            "                                                                 \n",
            " activation_1 (Activation)   (None, 56, 56, 64)        0         \n",
            "                                                                 \n",
            " conv2d_2 (Conv2D)           (None, 56, 56, 64)        36928     \n",
            "                                                                 \n",
            " batch_normalization_2 (Batc  (None, 56, 56, 64)       256       \n",
            " hNormalization)                                                 \n",
            "                                                                 \n",
            " activation_2 (Activation)   (None, 56, 56, 64)        0         \n",
            "                                                                 \n",
            " conv2d_3 (Conv2D)           (None, 56, 56, 64)        36928     \n",
            "                                                                 \n",
            " batch_normalization_3 (Batc  (None, 56, 56, 64)       256       \n",
            " hNormalization)                                                 \n",
            "                                                                 \n",
            " activation_3 (Activation)   (None, 56, 56, 64)        0         \n",
            "                                                                 \n",
            " conv2d_4 (Conv2D)           (None, 28, 28, 128)       73856     \n",
            "                                                                 \n",
            " batch_normalization_4 (Batc  (None, 28, 28, 128)      512       \n",
            " hNormalization)                                                 \n",
            "                                                                 \n",
            " activation_4 (Activation)   (None, 28, 28, 128)       0         \n",
            "                                                                 \n",
            " conv2d_5 (Conv2D)           (None, 28, 28, 128)       147584    \n",
            "                                                                 \n",
            " batch_normalization_5 (Batc  (None, 28, 28, 128)      512       \n",
            " hNormalization)                                                 \n",
            "                                                                 \n",
            " activation_5 (Activation)   (None, 28, 28, 128)       0         \n",
            "                                                                 \n",
            " conv2d_6 (Conv2D)           (None, 28, 28, 128)       147584    \n",
            "                                                                 \n",
            " batch_normalization_6 (Batc  (None, 28, 28, 128)      512       \n",
            " hNormalization)                                                 \n",
            "                                                                 \n",
            " activation_6 (Activation)   (None, 28, 28, 128)       0         \n",
            "                                                                 \n",
            " conv2d_7 (Conv2D)           (None, 28, 28, 128)       147584    \n",
            "                                                                 \n",
            " batch_normalization_7 (Batc  (None, 28, 28, 128)      512       \n",
            " hNormalization)                                                 \n",
            "                                                                 \n",
            " activation_7 (Activation)   (None, 28, 28, 128)       0         \n",
            "                                                                 \n",
            " conv2d_8 (Conv2D)           (None, 14, 14, 256)       295168    \n",
            "                                                                 \n",
            " batch_normalization_8 (Batc  (None, 14, 14, 256)      1024      \n",
            " hNormalization)                                                 \n",
            "                                                                 \n",
            " activation_8 (Activation)   (None, 14, 14, 256)       0         \n",
            "                                                                 \n",
            " conv2d_9 (Conv2D)           (None, 14, 14, 256)       590080    \n",
            "                                                                 \n",
            " batch_normalization_9 (Batc  (None, 14, 14, 256)      1024      \n",
            " hNormalization)                                                 \n",
            "                                                                 \n",
            " activation_9 (Activation)   (None, 14, 14, 256)       0         \n",
            "                                                                 \n",
            " conv2d_10 (Conv2D)          (None, 14, 14, 256)       590080    \n",
            "                                                                 \n",
            " batch_normalization_10 (Bat  (None, 14, 14, 256)      1024      \n",
            " chNormalization)                                                \n",
            "                                                                 \n",
            " activation_10 (Activation)  (None, 14, 14, 256)       0         \n",
            "                                                                 \n",
            " conv2d_11 (Conv2D)          (None, 14, 14, 256)       590080    \n",
            "                                                                 \n",
            " batch_normalization_11 (Bat  (None, 14, 14, 256)      1024      \n",
            " chNormalization)                                                \n",
            "                                                                 \n",
            " activation_11 (Activation)  (None, 14, 14, 256)       0         \n",
            "                                                                 \n",
            " conv2d_12 (Conv2D)          (None, 14, 14, 256)       590080    \n",
            "                                                                 \n",
            " batch_normalization_12 (Bat  (None, 14, 14, 256)      1024      \n",
            " chNormalization)                                                \n",
            "                                                                 \n",
            " activation_12 (Activation)  (None, 14, 14, 256)       0         \n",
            "                                                                 \n",
            " conv2d_13 (Conv2D)          (None, 14, 14, 256)       590080    \n",
            "                                                                 \n",
            " batch_normalization_13 (Bat  (None, 14, 14, 256)      1024      \n",
            " chNormalization)                                                \n",
            "                                                                 \n",
            " activation_13 (Activation)  (None, 14, 14, 256)       0         \n",
            "                                                                 \n",
            " conv2d_14 (Conv2D)          (None, 7, 7, 512)         1180160   \n",
            "                                                                 \n",
            " batch_normalization_14 (Bat  (None, 7, 7, 512)        2048      \n",
            " chNormalization)                                                \n",
            "                                                                 \n",
            " activation_14 (Activation)  (None, 7, 7, 512)         0         \n",
            "                                                                 \n",
            " conv2d_15 (Conv2D)          (None, 7, 7, 512)         2359808   \n",
            "                                                                 \n",
            " batch_normalization_15 (Bat  (None, 7, 7, 512)        2048      \n",
            " chNormalization)                                                \n",
            "                                                                 \n",
            " activation_15 (Activation)  (None, 7, 7, 512)         0         \n",
            "                                                                 \n",
            " conv2d_16 (Conv2D)          (None, 7, 7, 512)         2359808   \n",
            "                                                                 \n",
            " batch_normalization_16 (Bat  (None, 7, 7, 512)        2048      \n",
            " chNormalization)                                                \n",
            "                                                                 \n",
            " activation_16 (Activation)  (None, 7, 7, 512)         0         \n",
            "                                                                 \n",
            " global_average_pooling2d (G  (None, 512)              0         \n",
            " lobalAveragePooling2D)                                          \n",
            "                                                                 \n",
            " dense (Dense)               (None, 2)                 1026      \n",
            "                                                                 \n",
            "=================================================================\n",
            "Total params: 9,798,594\n",
            "Trainable params: 9,790,914\n",
            "Non-trainable params: 7,680\n",
            "_________________________________________________________________\n"
          ]
        }
      ],
      "source": [
        "model.summary()"
      ]
    },
    {
      "cell_type": "code",
      "execution_count": null,
      "metadata": {
        "colab": {
          "base_uri": "https://localhost:8080/"
        },
        "id": "wykY4cOGIGZN",
        "outputId": "c77b6861-8c0d-4b53-b7ad-1f24f73e69b6"
      },
      "outputs": [
        {
          "output_type": "stream",
          "name": "stdout",
          "text": [
            "250/250 - 26s - loss: 0.6932 - accuracy: 0.5000 - 26s/epoch - 104ms/step\n",
            "validation accuracy: 0.5\n"
          ]
        }
      ],
      "source": [
        "test_loss, val_acc = model.evaluate(val_generator, verbose=2)\n",
        "print('validation accuracy:', val_acc)"
      ]
    },
    {
      "cell_type": "code",
      "execution_count": null,
      "metadata": {
        "colab": {
          "base_uri": "https://localhost:8080/"
        },
        "id": "NY4_ky0aIZ-T",
        "outputId": "8e90d550-7aaa-479e-de57-5c882f085934"
      },
      "outputs": [
        {
          "output_type": "stream",
          "name": "stdout",
          "text": [
            "1/1 [==============================] - 1s 646ms/step\n",
            "[[0.48140684 0.5185932 ]]\n"
          ]
        }
      ],
      "source": [
        "img_path = \"/content/crack/train/Negative/00235.jpg\"\n",
        "img = image.load_img(img_path, target_size=(224, 224))\n",
        "img_array = image.img_to_array(img)\n",
        "img_batch = np.expand_dims(img_array, axis=0)\n",
        "prediction = model.predict(img_batch)\n",
        "print(prediction)"
      ]
    },
    {
      "cell_type": "code",
      "execution_count": null,
      "metadata": {
        "colab": {
          "base_uri": "https://localhost:8080/"
        },
        "id": "vwj8-8lDHkgo",
        "outputId": "b55e3a86-e957-443c-f983-5665b94bbe2f"
      },
      "outputs": [
        {
          "output_type": "stream",
          "name": "stdout",
          "text": [
            "Epoch 1/30\n",
            "40/40 [==============================] - 21s 165ms/step - loss: 0.3826 - accuracy: 0.9062 - val_loss: 251.7949 - val_accuracy: 0.4805\n",
            "Epoch 2/30\n",
            "40/40 [==============================] - 10s 247ms/step - loss: 0.1264 - accuracy: 0.9758 - val_loss: 13.1124 - val_accuracy: 0.4984\n",
            "Epoch 3/30\n",
            "40/40 [==============================] - 7s 183ms/step - loss: 0.0571 - accuracy: 0.9852 - val_loss: 12.0591 - val_accuracy: 0.4984\n",
            "Epoch 4/30\n",
            "40/40 [==============================] - 7s 169ms/step - loss: 0.0520 - accuracy: 0.9844 - val_loss: 12.3493 - val_accuracy: 0.4930\n",
            "Epoch 5/30\n",
            "40/40 [==============================] - 9s 231ms/step - loss: 0.0586 - accuracy: 0.9852 - val_loss: 10.2177 - val_accuracy: 0.4906\n",
            "Epoch 6/30\n",
            "40/40 [==============================] - 7s 167ms/step - loss: 0.0480 - accuracy: 0.9836 - val_loss: 13.1110 - val_accuracy: 0.4719\n",
            "Epoch 7/30\n",
            "40/40 [==============================] - 7s 188ms/step - loss: 0.0539 - accuracy: 0.9828 - val_loss: 12.9339 - val_accuracy: 0.5109\n",
            "Epoch 8/30\n",
            "40/40 [==============================] - 9s 232ms/step - loss: 0.0443 - accuracy: 0.9852 - val_loss: 10.3377 - val_accuracy: 0.4875\n",
            "Epoch 9/30\n",
            "40/40 [==============================] - 9s 232ms/step - loss: 0.0482 - accuracy: 0.9867 - val_loss: 2.6504 - val_accuracy: 0.5437\n",
            "Epoch 10/30\n",
            "40/40 [==============================] - 7s 182ms/step - loss: 0.0385 - accuracy: 0.9883 - val_loss: 1.1525 - val_accuracy: 0.7875\n",
            "Epoch 11/30\n",
            "40/40 [==============================] - 7s 168ms/step - loss: 0.0224 - accuracy: 0.9937 - val_loss: 1.9572 - val_accuracy: 0.6313\n",
            "Epoch 12/30\n",
            "40/40 [==============================] - 7s 166ms/step - loss: 0.0557 - accuracy: 0.9844 - val_loss: 169.9652 - val_accuracy: 0.4984\n",
            "Epoch 13/30\n",
            "40/40 [==============================] - 7s 184ms/step - loss: 0.0718 - accuracy: 0.9773 - val_loss: 0.4458 - val_accuracy: 0.9375\n",
            "Epoch 14/30\n",
            "40/40 [==============================] - 7s 165ms/step - loss: 0.0555 - accuracy: 0.9797 - val_loss: 3.4617 - val_accuracy: 0.7961\n",
            "Epoch 15/30\n",
            "40/40 [==============================] - 8s 191ms/step - loss: 0.0374 - accuracy: 0.9883 - val_loss: 0.1191 - val_accuracy: 0.9695\n",
            "Epoch 16/30\n",
            "40/40 [==============================] - 7s 176ms/step - loss: 0.0400 - accuracy: 0.9844 - val_loss: 0.9432 - val_accuracy: 0.7734\n",
            "Epoch 17/30\n",
            "40/40 [==============================] - 7s 166ms/step - loss: 0.0426 - accuracy: 0.9875 - val_loss: 0.1124 - val_accuracy: 0.9500\n",
            "Epoch 18/30\n",
            "40/40 [==============================] - 7s 185ms/step - loss: 0.0374 - accuracy: 0.9867 - val_loss: 0.0698 - val_accuracy: 0.9742\n",
            "Epoch 19/30\n",
            "40/40 [==============================] - 7s 165ms/step - loss: 0.0446 - accuracy: 0.9859 - val_loss: 0.0563 - val_accuracy: 0.9727\n",
            "Epoch 20/30\n",
            "40/40 [==============================] - 7s 166ms/step - loss: 0.0254 - accuracy: 0.9914 - val_loss: 0.0453 - val_accuracy: 0.9766\n",
            "Epoch 21/30\n",
            "40/40 [==============================] - 9s 236ms/step - loss: 0.0176 - accuracy: 0.9922 - val_loss: 0.1011 - val_accuracy: 0.9891\n",
            "Epoch 22/30\n",
            "40/40 [==============================] - 7s 166ms/step - loss: 0.0296 - accuracy: 0.9914 - val_loss: 0.1246 - val_accuracy: 0.9836\n",
            "Epoch 23/30\n",
            "40/40 [==============================] - 7s 184ms/step - loss: 0.0289 - accuracy: 0.9906 - val_loss: 0.0611 - val_accuracy: 0.9789\n",
            "Epoch 24/30\n",
            "40/40 [==============================] - 7s 165ms/step - loss: 0.0249 - accuracy: 0.9883 - val_loss: 0.0087 - val_accuracy: 0.9945\n",
            "Epoch 25/30\n",
            "40/40 [==============================] - 7s 185ms/step - loss: 0.0284 - accuracy: 0.9930 - val_loss: 0.0127 - val_accuracy: 0.9969\n",
            "Epoch 26/30\n",
            "40/40 [==============================] - 9s 232ms/step - loss: 0.0266 - accuracy: 0.9945 - val_loss: 0.1891 - val_accuracy: 0.9516\n",
            "Epoch 27/30\n",
            "40/40 [==============================] - 9s 231ms/step - loss: 0.0226 - accuracy: 0.9922 - val_loss: 0.0537 - val_accuracy: 0.9875\n",
            "Epoch 28/30\n",
            "40/40 [==============================] - 7s 177ms/step - loss: 0.0523 - accuracy: 0.9875 - val_loss: 0.0835 - val_accuracy: 0.9836\n",
            "Epoch 29/30\n",
            "40/40 [==============================] - 9s 231ms/step - loss: 0.0125 - accuracy: 0.9961 - val_loss: 0.0369 - val_accuracy: 0.9875\n",
            "Epoch 30/30\n",
            "40/40 [==============================] - 7s 164ms/step - loss: 0.0201 - accuracy: 0.9930 - val_loss: 0.0629 - val_accuracy: 0.9820\n"
          ]
        }
      ],
      "source": [
        "history = model.fit(\n",
        "    train_generator,\n",
        "    steps_per_epoch=20000//500,\n",
        "    epochs=30,\n",
        "    validation_data=val_generator,\n",
        "    validation_steps=20000//500\n",
        ")\n",
        ""
      ]
    },
    {
      "cell_type": "code",
      "source": [
        "model.save('/content/crack/resnet.h5')"
      ],
      "metadata": {
        "id": "hcXiTurlSTHh"
      },
      "execution_count": null,
      "outputs": []
    },
    {
      "cell_type": "code",
      "source": [
        "import matplotlib.pyplot as plt\n",
        "\n",
        "\n",
        "# Plot training and validation accuracy\n",
        "plt.figure(figsize=(12, 4))\n",
        "plt.subplot(1, 2, 1)\n",
        "plt.plot(history.history['accuracy'], label='Training Accuracy')\n",
        "plt.plot(history.history['val_accuracy'], label='Validation Accuracy')\n",
        "plt.xlabel('Epoch')\n",
        "plt.ylabel('Accuracy')\n",
        "plt.legend()\n",
        "\n",
        "# Plot training and validation loss\n",
        "plt.subplot(1, 2, 2)\n",
        "plt.plot(history.history['loss'], label='Training Loss')\n",
        "plt.plot(history.history['val_loss'], label='Validation Loss')\n",
        "plt.xlabel('Epoch')\n",
        "plt.ylabel('Loss')\n",
        "plt.legend()\n",
        "\n",
        "plt.tight_layout()\n",
        "plt.show()\n"
      ],
      "metadata": {
        "colab": {
          "base_uri": "https://localhost:8080/",
          "height": 406
        },
        "id": "oEQb_w0Bfwdm",
        "outputId": "5499f7c9-a673-4e78-c844-fca7e8c88373"
      },
      "execution_count": null,
      "outputs": [
        {
          "output_type": "display_data",
          "data": {
            "text/plain": [
              "<Figure size 1200x400 with 2 Axes>"
            ],
            "image/png": "[encoded data removed]"
          },
          "metadata": {}
        }
      ]
    }
  ],
  "metadata": {
    "colab": {
      "provenance": [],
      "gpuType": "T4"
    },
    "kernelspec": {
      "display_name": "Python 3",
      "name": "python3"
    },
    "language_info": {
      "name": "python"
    },
    "accelerator": "GPU"
  },
  "nbformat": 4,
  "nbformat_minor": 0
}